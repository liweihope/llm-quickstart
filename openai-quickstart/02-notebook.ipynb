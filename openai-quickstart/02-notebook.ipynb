{
 "cells": [
  {
   "cell_type": "code",
   "id": "initial_id",
   "metadata": {
    "collapsed": true,
    "ExecuteTime": {
     "end_time": "2025-10-19T13:16:22.070559Z",
     "start_time": "2025-10-19T13:16:22.044927Z"
    }
   },
   "source": [
    "from dotenv import load_dotenv,find_dotenv\n",
    "load_dotenv(find_dotenv())"
   ],
   "outputs": [
    {
     "data": {
      "text/plain": [
       "True"
      ]
     },
     "execution_count": 1,
     "metadata": {},
     "output_type": "execute_result"
    }
   ],
   "execution_count": 1
  },
  {
   "metadata": {
    "ExecuteTime": {
     "end_time": "2025-10-19T13:17:53.702492Z",
     "start_time": "2025-10-19T13:17:48.539563Z"
    }
   },
   "cell_type": "code",
   "source": [
    "from openai import OpenAI\n",
    "from openai.types.chat import ChatCompletionUserMessageParam\n",
    "client = OpenAI()\n",
    "\n",
    "completion = client.chat.completions.create(\n",
    "        model=\"gpt-4o-mini\",\n",
    "        messages=[ChatCompletionUserMessageParam(role=\"user\", content=\"请以李白的风格，写一首描述中国长城的诗\")]\n",
    "    )"
   ],
   "id": "a84d26b1bea33acd",
   "outputs": [],
   "execution_count": 2
  },
  {
   "metadata": {
    "ExecuteTime": {
     "end_time": "2025-10-19T13:18:13.824007Z",
     "start_time": "2025-10-19T13:18:13.814483Z"
    }
   },
   "cell_type": "code",
   "source": "completion",
   "id": "2e39f1305adc0d2c",
   "outputs": [
    {
     "data": {
      "text/plain": [
       "ChatCompletion(id='chatcmpl-CSNaDwR6ZZv0Ob446DdWqAIbIX2fD', choices=[Choice(finish_reason='stop', index=0, logprobs=None, message=ChatCompletionMessage(content='长城高耸入云端，  \\n蜿蜒千里护边关。  \\n壮阔山河皆可见，  \\n岁月流转不失颜。  \\n\\n烽烟曾起三尺雪，  \\n英雄豪杰志难弥。  \\n万里风华今犹在，  \\n长城永存我中华。', refusal=None, role='assistant', annotations=[], audio=None, function_call=None, tool_calls=None))], created=1760879873, model='gpt-4o-mini-2024-07-18', object='chat.completion', service_tier='default', system_fingerprint='fp_560af6e559', usage=CompletionUsage(completion_tokens=76, prompt_tokens=24, total_tokens=100, completion_tokens_details=CompletionTokensDetails(accepted_prediction_tokens=0, audio_tokens=0, reasoning_tokens=0, rejected_prediction_tokens=0), prompt_tokens_details=PromptTokensDetails(audio_tokens=0, cached_tokens=0)))"
      ]
     },
     "execution_count": 3,
     "metadata": {},
     "output_type": "execute_result"
    }
   ],
   "execution_count": 3
  },
  {
   "metadata": {
    "ExecuteTime": {
     "end_time": "2025-10-19T13:19:05.883205Z",
     "start_time": "2025-10-19T13:19:05.872674Z"
    }
   },
   "cell_type": "code",
   "source": "completion.choices[0].message",
   "id": "30d0b137966abb21",
   "outputs": [
    {
     "data": {
      "text/plain": [
       "ChatCompletionMessage(content='长城高耸入云端，  \\n蜿蜒千里护边关。  \\n壮阔山河皆可见，  \\n岁月流转不失颜。  \\n\\n烽烟曾起三尺雪，  \\n英雄豪杰志难弥。  \\n万里风华今犹在，  \\n长城永存我中华。', refusal=None, role='assistant', annotations=[], audio=None, function_call=None, tool_calls=None)"
      ]
     },
     "execution_count": 5,
     "metadata": {},
     "output_type": "execute_result"
    }
   ],
   "execution_count": 5
  },
  {
   "metadata": {
    "ExecuteTime": {
     "end_time": "2025-10-19T13:19:47.207955Z",
     "start_time": "2025-10-19T13:19:47.200012Z"
    }
   },
   "cell_type": "code",
   "source": "completion.choices[0].message.content",
   "id": "445e35a1a1a56041",
   "outputs": [
    {
     "data": {
      "text/plain": [
       "'长城高耸入云端，  \\n蜿蜒千里护边关。  \\n壮阔山河皆可见，  \\n岁月流转不失颜。  \\n\\n烽烟曾起三尺雪，  \\n英雄豪杰志难弥。  \\n万里风华今犹在，  \\n长城永存我中华。'"
      ]
     },
     "execution_count": 6,
     "metadata": {},
     "output_type": "execute_result"
    }
   ],
   "execution_count": 6
  },
  {
   "metadata": {
    "ExecuteTime": {
     "end_time": "2025-10-19T13:27:58.169537Z",
     "start_time": "2025-10-19T13:27:58.149831Z"
    }
   },
   "cell_type": "code",
   "source": "client.chat.completions.create?",
   "id": "146b23ed4437279e",
   "outputs": [],
   "execution_count": 7
  },
  {
   "metadata": {
    "ExecuteTime": {
     "end_time": "2025-10-19T13:34:38.150744Z",
     "start_time": "2025-10-19T13:34:36.119651Z"
    }
   },
   "cell_type": "code",
   "source": [
    "completion = client.chat.completions.create(\n",
    "        model=\"gpt-4o-mini\",\n",
    "        messages=[ChatCompletionUserMessageParam(role=\"user\", content=\"请以李白的风格，写一首描述中国南京的诗\")],\n",
    "        stream=True\n",
    "    )\n",
    "for chunk in completion:\n",
    "    if chunk.choices[0].delta.content is not None:\n",
    "        print(chunk.choices[0].delta.content, end=\"\")\n"
   ],
   "id": "aee4a8815cea89c6",
   "outputs": [
    {
     "name": "stdout",
     "output_type": "stream",
     "text": [
      "江城春色媚，  \n",
      "柳垂烟雨新。  \n",
      "钟山高耸翠，  \n",
      "鶴鸣晓霭深。  \n",
      "\n",
      "秦淮河畔月，  \n",
      "灯影相辉映。  \n",
      "一曲离骚吟，  \n",
      "古韵今犹存。  \n",
      "\n",
      "千年辉映处，  \n",
      "历史如潮生。  \n",
      "问君何所思？  \n",
      "共醉此城情。  "
     ]
    }
   ],
   "execution_count": 8
  },
  {
   "metadata": {
    "ExecuteTime": {
     "end_time": "2025-10-19T13:46:20.470065Z",
     "start_time": "2025-10-19T13:46:13.190151Z"
    }
   },
   "cell_type": "code",
   "source": [
    "response = client.responses.create(\n",
    "    model=\"gpt-4.1-mini\",\n",
    "    input=[{\n",
    "        \"role\": \"user\",\n",
    "        \"content\": [\n",
    "            {\"type\": \"input_text\", \"text\": \"what's in this image?\"},\n",
    "            {\n",
    "                \"type\": \"input_image\",\n",
    "                \"image_url\": \"https://upload.wikimedia.org/wikipedia/commons/thumb/d/dd/Gfp-wisconsin-madison-the-nature-boardwalk.jpg/2560px-Gfp-wisconsin-madison-the-nature-boardwalk.jpg\",\n",
    "            },\n",
    "        ],\n",
    "    }],\n",
    ")"
   ],
   "id": "6c0cc5b8da429343",
   "outputs": [],
   "execution_count": 10
  },
  {
   "metadata": {
    "ExecuteTime": {
     "end_time": "2025-10-19T13:46:34.762922Z",
     "start_time": "2025-10-19T13:46:34.758754Z"
    }
   },
   "cell_type": "code",
   "source": "response\n",
   "id": "b3642a942cb9a9d6",
   "outputs": [
    {
     "data": {
      "text/plain": [
       "Response(id='resp_02c292d710b977e50068f4eba6ff6c8198b2b3735ba2d8fc37', created_at=1760881575.0, error=None, incomplete_details=None, instructions=None, metadata={}, model='gpt-4.1-mini-2025-04-14', object='response', output=[ResponseOutputMessage(id='msg_02c292d710b977e50068f4ebabfad8819885b0bdba4270a163', content=[ResponseOutputText(annotations=[], text='The image shows a wooden boardwalk extending straight through a lush, green grassy field. On either side of the boardwalk, tall grass and various shrubs are visible. The sky above is bright blue with scattered clouds, indicating a clear and pleasant day. The scene appears to be calm and natural, possibly part of a nature reserve or park.', type='output_text', logprobs=[])], role='assistant', status='completed', type='message')], parallel_tool_calls=True, temperature=1.0, tool_choice='auto', tools=[], top_p=1.0, background=False, conversation=None, max_output_tokens=None, max_tool_calls=None, previous_response_id=None, prompt=None, prompt_cache_key=None, reasoning=Reasoning(effort=None, generate_summary=None, summary=None), safety_identifier=None, service_tier='default', status='completed', text=ResponseTextConfig(format=ResponseFormatText(type='text'), verbosity='medium'), top_logprobs=0, truncation='disabled', usage=ResponseUsage(input_tokens=2425, input_tokens_details=InputTokensDetails(cached_tokens=0), output_tokens=69, output_tokens_details=OutputTokensDetails(reasoning_tokens=0), total_tokens=2494), user=None, billing={'payer': 'developer'}, store=True)"
      ]
     },
     "execution_count": 11,
     "metadata": {},
     "output_type": "execute_result"
    }
   ],
   "execution_count": 11
  },
  {
   "metadata": {
    "ExecuteTime": {
     "end_time": "2025-10-19T13:49:31.513075Z",
     "start_time": "2025-10-19T13:49:31.502451Z"
    }
   },
   "cell_type": "code",
   "source": "response.output_text",
   "id": "8516138014ddc4a2",
   "outputs": [
    {
     "data": {
      "text/plain": [
       "'The image shows a wooden boardwalk extending straight through a lush, green grassy field. On either side of the boardwalk, tall grass and various shrubs are visible. The sky above is bright blue with scattered clouds, indicating a clear and pleasant day. The scene appears to be calm and natural, possibly part of a nature reserve or park.'"
      ]
     },
     "execution_count": 15,
     "metadata": {},
     "output_type": "execute_result"
    }
   ],
   "execution_count": 15
  },
  {
   "metadata": {
    "ExecuteTime": {
     "end_time": "2025-10-19T13:51:27.492008Z",
     "start_time": "2025-10-19T13:51:26.292321Z"
    }
   },
   "cell_type": "code",
   "source": "models = client.models.list()",
   "id": "18f9281bedf706bc",
   "outputs": [],
   "execution_count": 17
  },
  {
   "metadata": {
    "ExecuteTime": {
     "end_time": "2025-10-19T13:52:23.134170Z",
     "start_time": "2025-10-19T13:52:23.131282Z"
    }
   },
   "cell_type": "code",
   "source": "model_ids = [model.id for model in models.data]",
   "id": "215aec893dccc729",
   "outputs": [],
   "execution_count": 18
  },
  {
   "metadata": {
    "ExecuteTime": {
     "end_time": "2025-10-19T13:52:37.412662Z",
     "start_time": "2025-10-19T13:52:37.397202Z"
    }
   },
   "cell_type": "code",
   "source": "model_ids",
   "id": "28945ea9ec9fad76",
   "outputs": [
    {
     "data": {
      "text/plain": [
       "['gpt-3.5-turbo',\n",
       " 'gpt-5-search-api-2025-10-14',\n",
       " 'gpt-audio-mini-2025-10-06',\n",
       " 'gpt-5-search-api',\n",
       " 'sora-2',\n",
       " 'sora-2-pro',\n",
       " 'davinci-002',\n",
       " 'babbage-002',\n",
       " 'gpt-3.5-turbo-instruct',\n",
       " 'gpt-3.5-turbo-instruct-0914',\n",
       " 'dall-e-3',\n",
       " 'dall-e-2',\n",
       " 'gpt-3.5-turbo-1106',\n",
       " 'tts-1-hd',\n",
       " 'tts-1-1106',\n",
       " 'tts-1-hd-1106',\n",
       " 'text-embedding-3-small',\n",
       " 'text-embedding-3-large',\n",
       " 'gpt-3.5-turbo-0125',\n",
       " 'gpt-4o',\n",
       " 'gpt-4o-2024-05-13',\n",
       " 'gpt-4o-mini-2024-07-18',\n",
       " 'gpt-4o-mini',\n",
       " 'gpt-4o-2024-08-06',\n",
       " 'o1-mini-2024-09-12',\n",
       " 'o1-mini',\n",
       " 'gpt-4o-audio-preview-2024-10-01',\n",
       " 'gpt-4o-audio-preview',\n",
       " 'omni-moderation-latest',\n",
       " 'omni-moderation-2024-09-26',\n",
       " 'gpt-4o-audio-preview-2024-12-17',\n",
       " 'gpt-4o-mini-audio-preview-2024-12-17',\n",
       " 'o1-2024-12-17',\n",
       " 'o1',\n",
       " 'gpt-4o-mini-audio-preview',\n",
       " 'o3-mini',\n",
       " 'o3-mini-2025-01-31',\n",
       " 'gpt-4o-2024-11-20',\n",
       " 'gpt-4o-search-preview-2025-03-11',\n",
       " 'gpt-4o-search-preview',\n",
       " 'gpt-4o-mini-search-preview-2025-03-11',\n",
       " 'gpt-4o-mini-search-preview',\n",
       " 'gpt-4o-transcribe',\n",
       " 'gpt-4o-mini-transcribe',\n",
       " 'gpt-4o-mini-tts',\n",
       " 'o3-2025-04-16',\n",
       " 'o4-mini-2025-04-16',\n",
       " 'o3',\n",
       " 'o4-mini',\n",
       " 'gpt-4.1-2025-04-14',\n",
       " 'gpt-4.1',\n",
       " 'gpt-4.1-mini-2025-04-14',\n",
       " 'gpt-4.1-mini',\n",
       " 'gpt-4.1-nano-2025-04-14',\n",
       " 'gpt-4.1-nano',\n",
       " 'gpt-image-1',\n",
       " 'gpt-4o-audio-preview-2025-06-03',\n",
       " 'gpt-4o-transcribe-diarize',\n",
       " 'gpt-5-chat-latest',\n",
       " 'gpt-5-2025-08-07',\n",
       " 'gpt-5',\n",
       " 'gpt-5-mini-2025-08-07',\n",
       " 'gpt-5-mini',\n",
       " 'gpt-5-nano-2025-08-07',\n",
       " 'gpt-5-nano',\n",
       " 'gpt-audio-2025-08-28',\n",
       " 'gpt-audio',\n",
       " 'gpt-5-codex',\n",
       " 'gpt-image-1-mini',\n",
       " 'gpt-5-pro-2025-10-06',\n",
       " 'gpt-5-pro',\n",
       " 'gpt-audio-mini',\n",
       " 'whisper-1',\n",
       " 'tts-1',\n",
       " 'gpt-3.5-turbo-16k',\n",
       " 'text-embedding-ada-002']"
      ]
     },
     "execution_count": 19,
     "metadata": {},
     "output_type": "execute_result"
    }
   ],
   "execution_count": 19
  },
  {
   "metadata": {
    "ExecuteTime": {
     "end_time": "2025-10-19T13:52:57.398539Z",
     "start_time": "2025-10-19T13:52:57.382418Z"
    }
   },
   "cell_type": "code",
   "source": "len(model_ids)",
   "id": "2b09737d612199a9",
   "outputs": [
    {
     "data": {
      "text/plain": [
       "76"
      ]
     },
     "execution_count": 20,
     "metadata": {},
     "output_type": "execute_result"
    }
   ],
   "execution_count": 20
  },
  {
   "metadata": {
    "ExecuteTime": {
     "end_time": "2025-10-19T14:03:44.481051Z",
     "start_time": "2025-10-19T14:03:43.489941Z"
    }
   },
   "cell_type": "code",
   "source": "client.models.retrieve(\"gpt-4o-mini\")",
   "id": "b1013d51b5d99012",
   "outputs": [
    {
     "data": {
      "text/plain": [
       "Model(id='gpt-4o-mini', created=1721172741, object='model', owned_by='system')"
      ]
     },
     "execution_count": 21,
     "metadata": {},
     "output_type": "execute_result"
    }
   ],
   "execution_count": 21
  },
  {
   "metadata": {
    "ExecuteTime": {
     "end_time": "2025-10-19T14:04:36.473226Z",
     "start_time": "2025-10-19T14:04:35.509343Z"
    }
   },
   "cell_type": "code",
   "source": "client.models.retrieve(\"gpt-5-mini\")",
   "id": "3fd80db275abc82a",
   "outputs": [
    {
     "data": {
      "text/plain": [
       "Model(id='gpt-5-mini', created=1754425928, object='model', owned_by='system')"
      ]
     },
     "execution_count": 23,
     "metadata": {},
     "output_type": "execute_result"
    }
   ],
   "execution_count": 23
  }
 ],
 "metadata": {
  "kernelspec": {
   "display_name": "Python 3",
   "language": "python",
   "name": "python3"
  },
  "language_info": {
   "codemirror_mode": {
    "name": "ipython",
    "version": 2
   },
   "file_extension": ".py",
   "mimetype": "text/x-python",
   "name": "python",
   "nbconvert_exporter": "python",
   "pygments_lexer": "ipython2",
   "version": "2.7.6"
  }
 },
 "nbformat": 4,
 "nbformat_minor": 5
}
